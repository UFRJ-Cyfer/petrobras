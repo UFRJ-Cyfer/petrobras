{
 "cells": [
  {
   "cell_type": "code",
   "execution_count": 2,
   "metadata": {
    "collapsed": true
   },
   "outputs": [],
   "source": [
    "def normalizeData(x_):\n",
    "    x = x_\n",
    "    print(x.shape)\n",
    "    for k in range(0,x.shape[1]):\n",
    "        x[:,k] = (x[:,k] - np.mean(x[:,k],axis=0))/np.std(x[:,k],axis=0)\n",
    "    return x"
   ]
  },
  {
   "cell_type": "code",
   "execution_count": 3,
   "metadata": {
    "collapsed": true
   },
   "outputs": [],
   "source": [
    "def rearrange(x):\n",
    "    output = np.zeros((x.shape[1],x.shape[0],1))\n",
    "    print(x.shape)\n",
    "    x = np.transpose(x);\n",
    "    \n",
    "    for k in range(0,x.shape[0]):\n",
    "        output[k,:,0] = x[k,:]\n",
    "    \n",
    "    return output\n"
   ]
  },
  {
   "cell_type": "code",
   "execution_count": 4,
   "metadata": {
    "collapsed": true
   },
   "outputs": [],
   "source": [
    "def initFilter(shape, poolsz):\n",
    "    w = np.random.randn(*shape) / np.sqrt(np.prod(shape[1:]) + shape[0]*np.prod(shape[2:] / np.prod(poolsz)))\n",
    "    return w.astype(np.float32)"
   ]
  },
  {
   "cell_type": "code",
   "execution_count": 5,
   "metadata": {
    "collapsed": true
   },
   "outputs": [],
   "source": [
    "def convpool(inputs,filters, b, poolsize = (2,1)):\n",
    "    \n",
    "    convOut = conv2d(\n",
    "        input = inputs, \n",
    "        filters = filters, \n",
    "        image_shape = ([inputs.shape[0],], inputs.shape[2], 1)\n",
    "                    )\n",
    "    \n",
    "    poolOut = pool.pool_2d(input=convOut,\n",
    "                                     ds = poolsize,\n",
    "                                     ignore_border = True\n",
    "                                    )\n",
    "    \n",
    "    return T.tensor.nnet.relu(poolOut + b.dimshuffle('x', 0, 'x', 'x'))"
   ]
  },
  {
   "cell_type": "code",
   "execution_count": 29,
   "metadata": {},
   "outputs": [
    {
     "name": "stdout",
     "output_type": "stream",
     "text": [
      "(8193L, 425L)\n"
     ]
    }
   ],
   "source": [
    "import numpy as np\n",
    "import scipy.io as sio\n",
    "import theano\n",
    "\n",
    "import os    \n",
    "os.environ['THEANO_FLAGS'] = \"device=gpu0,floatX=float32\"    \n",
    "import theano\n",
    "\n",
    "\n",
    "from theano.tensor.nnet import conv2d\n",
    "from theano.tensor.signal import pool\n",
    "import matplotlib as plt\n",
    "import matplotlib.pyplot as pyplt\n",
    "\n",
    "file = '../Matlab/Data/neuralNetData'\n",
    "\n",
    "matContent = sio.loadmat(file)\n",
    "\n",
    "neuralNetInput = matContent['neuralNetInput']\n",
    "neuralNetOutput = matContent['neuralNetOutput']\n",
    "neuralNetOutput = np.transpose(neuralNetOutput)\n",
    "rawFFT = matContent['neuralNetRawInput']\n",
    "\n",
    "neuralNetRawInput = np.absolute(rawFFT[0:rawFFT.shape[0]/2 + 1,:]);\n",
    "neuralNetRawInput[1:,:] = 2*neuralNetRawInput[1:,:];\n",
    "print(neuralNetRawInput.shape)\n",
    "sio.whosmat(file)\n",
    "\n",
    "timePI = 300\n",
    "timeSP = 224"
   ]
  },
  {
   "cell_type": "code",
   "execution_count": 2,
   "metadata": {
    "collapsed": true
   },
   "outputs": [],
   "source": [
    "import subprocess\n",
    "\n",
    "ng = '4 ';\n",
    "N = '16777216 ';\n",
    "\n",
    "EXEpath = \"D:\\\\\"\n",
    "EXEname = 'exportador_idr2 ';\n",
    "\n",
    "filepath_tdms =  \"D:\\\\\"\n",
    "filename_tdms = 'ciclo_2#001.tdms '\n",
    "\n",
    "filepath_raw = \"D:\\\\\"\n",
    "filename_raw = 'temp.raw ';\n",
    "\n",
    "#commandline = EXEpath + EXEname + filepath_tdms + filename_tdms + ng + N + filepath_raw + filename_raw\n",
    "            \n",
    "#print(commandline)\n",
    "\n",
    "#subprocess.call(commandline)"
   ]
  },
  {
   "cell_type": "code",
   "execution_count": 39,
   "metadata": {
    "collapsed": true
   },
   "outputs": [],
   "source": [
    "import mmap\n",
    "import numpy as np\n",
    "\n",
    "with open(filepath_raw + filename_raw,\"r+b\") as f:\n",
    "    # memory-map the file, size 0 means whole file\n",
    "    mm = mmap.mmap(f.fileno(), 0)\n",
    "    \n",
    "numpymm = np.memmap(filepath_raw + filename_raw, np.int16,\"r+\")\n",
    "    "
   ]
  },
  {
   "cell_type": "code",
   "execution_count": null,
   "metadata": {
    "collapsed": true
   },
   "outputs": [],
   "source": [
    "import matlab.engine\n",
    "eng = matlab.engine.start_matlab()\n",
    "\n",
    "\n"
   ]
  },
  {
   "cell_type": "code",
   "execution_count": 5,
   "metadata": {
    "collapsed": true
   },
   "outputs": [],
   "source": [
    "eng.ImportadorRAW(filepath_raw + filename_raw)\n",
    "import scipy.io\n",
    "mat = scipy.io.loadmat('raw.mat')"
   ]
  },
  {
   "cell_type": "code",
   "execution_count": null,
   "metadata": {
    "collapsed": true
   },
   "outputs": [],
   "source": [
    "import numpy as np\n",
    "\n",
    "\n",
    "rawNPFile = np.array(rawFile)\n",
    "print(rawNPFile.shape)"
   ]
  },
  {
   "cell_type": "code",
   "execution_count": 34,
   "metadata": {},
   "outputs": [
    {
     "name": "stdout",
     "output_type": "stream",
     "text": [
      "(8193L, 425L)\n",
      "(8193L, 425L)\n",
      "(425L, 8193L, 1L)\n",
      "(425L, 3L)\n",
      "298\n",
      "64\n"
     ]
    }
   ],
   "source": [
    "deepNeuralNetInput = normalizeData(neuralNetRawInput)\n",
    "deepNeuralNetInput = rearrange(deepNeuralNetInput);\n",
    "print(deepNeuralNetInput.shape)\n",
    "print(neuralNetOutput.shape)\n",
    "\n",
    "\n",
    "trainInd, valInd,testInd = splitIndexes(neuralNetRawInput.shape[1])\n",
    "repeatIndexes = trainInd[(trainInd < timePI) & (trainInd > timeSP)]\n",
    "trainInd = np.concatenate((trainInd, repeatIndexes))\n",
    "\n",
    "\n",
    "X_train = deepNeuralNetInput[trainInd,:,:]\n",
    "y_train = neuralNetOutput[trainInd,:]\n",
    "\n",
    "X_val = deepNeuralNetInput[valInd,:,:]\n",
    "y_val = neuralNetOutput[valInd,:]\n",
    "\n",
    "X_test = deepNeuralNetInput[testInd,:,:]\n",
    "y_test = neuralNetOutput[testInd,:]"
   ]
  },
  {
   "cell_type": "code",
   "execution_count": 46,
   "metadata": {},
   "outputs": [
    {
     "name": "stdout",
     "output_type": "stream",
     "text": [
      "Train on 350 samples, validate on 63 samples\n",
      "Epoch 1/20\n",
      "350/350 [==============================] - 4s - loss: 0.6216 - acc: 0.6543 - val_loss: 0.5805 - val_acc: 0.6720\n",
      "Epoch 2/20\n",
      "350/350 [==============================] - 4s - loss: 0.5417 - acc: 0.6933 - val_loss: 0.4146 - val_acc: 0.8519\n",
      "Epoch 3/20\n",
      "350/350 [==============================] - 4s - loss: 0.4417 - acc: 0.8143 - val_loss: 0.3748 - val_acc: 0.8677\n",
      "Epoch 4/20\n",
      "350/350 [==============================] - 4s - loss: 0.3907 - acc: 0.8476 - val_loss: 0.3213 - val_acc: 0.8889\n",
      "Epoch 5/20\n",
      "350/350 [==============================] - 4s - loss: 0.4030 - acc: 0.8152 - val_loss: 0.3164 - val_acc: 0.8889\n",
      "Epoch 6/20\n",
      "350/350 [==============================] - 4s - loss: 0.3955 - acc: 0.8210 - val_loss: 0.3146 - val_acc: 0.8889\n",
      "Epoch 7/20\n",
      "350/350 [==============================] - 4s - loss: 0.3622 - acc: 0.8476 - val_loss: 0.3628 - val_acc: 0.8730\n",
      "Epoch 8/20\n",
      "350/350 [==============================] - 4s - loss: 0.3331 - acc: 0.8610 - val_loss: 0.3122 - val_acc: 0.8836\n",
      "Epoch 9/20\n",
      "350/350 [==============================] - 4s - loss: 0.3242 - acc: 0.8714 - val_loss: 0.3678 - val_acc: 0.8730\n",
      "Epoch 10/20\n",
      "350/350 [==============================] - 4s - loss: 0.3167 - acc: 0.8781 - val_loss: 0.3067 - val_acc: 0.8942\n",
      "Epoch 11/20\n",
      "350/350 [==============================] - 4s - loss: 0.2890 - acc: 0.9019 - val_loss: 0.3090 - val_acc: 0.9101\n",
      "Epoch 12/20\n",
      "350/350 [==============================] - 4s - loss: 0.2783 - acc: 0.9038 - val_loss: 0.3221 - val_acc: 0.9101\n",
      "Epoch 13/20\n",
      "350/350 [==============================] - 4s - loss: 0.2665 - acc: 0.9152 - val_loss: 0.2939 - val_acc: 0.8942\n",
      "Epoch 14/20\n",
      "350/350 [==============================] - 4s - loss: 0.2582 - acc: 0.9029 - val_loss: 0.3146 - val_acc: 0.8995\n",
      "Epoch 15/20\n",
      "350/350 [==============================] - 4s - loss: 0.2414 - acc: 0.9229 - val_loss: 0.2828 - val_acc: 0.9048\n",
      "Epoch 16/20\n",
      "350/350 [==============================] - 4s - loss: 0.2341 - acc: 0.9143 - val_loss: 0.3194 - val_acc: 0.8995\n",
      "Epoch 17/20\n",
      "350/350 [==============================] - 4s - loss: 0.2160 - acc: 0.9429 - val_loss: 0.2770 - val_acc: 0.8995\n",
      "Epoch 18/20\n",
      "350/350 [==============================] - 5s - loss: 0.2216 - acc: 0.9143 - val_loss: 0.3427 - val_acc: 0.8571\n",
      "Epoch 19/20\n",
      "350/350 [==============================] - 6s - loss: 0.2064 - acc: 0.9324 - val_loss: 0.2689 - val_acc: 0.9048\n",
      "Epoch 20/20\n",
      "350/350 [==============================] - 5s - loss: 0.1947 - acc: 0.9419 - val_loss: 0.2694 - val_acc: 0.9153\n"
     ]
    },
    {
     "data": {
      "text/plain": [
       "<keras.callbacks.History at 0x15e707f0>"
      ]
     },
     "execution_count": 46,
     "metadata": {},
     "output_type": "execute_result"
    }
   ],
   "source": [
    "from keras.models import Sequential\n",
    "from keras.layers import Dense, Activation, Conv1D, MaxPooling1D, Flatten\n",
    "from keras.callbacks import EarlyStopping\n",
    "from keras.optimizers import SGD, RMSprop\n",
    "from sklearn.model_selection import train_test_split\n",
    "\n",
    "#keras.layers.convolutional.Conv1D(filters, \n",
    "             #                     kernel_size,\n",
    "            #                      strides=1,\n",
    "           #                       padding='valid',\n",
    "          #                        dilation_rate=1,\n",
    "         #                         activation=None,\n",
    "        #                          use_bias=True,\n",
    "       #                           kernel_initializer='glorot_uniform',\n",
    "     #                             bias_initializer='zeros',\n",
    "      #                            kernel_regularizer=None,\n",
    "    #                              bias_regularizer=None,\n",
    "   #                               activity_regularizer=None,\n",
    "  #                                kernel_constraint=None,\n",
    " #                                 bias_constraint=None)\n",
    "#\n",
    "#keras.layers.pooling.MaxPooling1D(pool_size=2, strides=None, padding='valid')\n",
    "\n",
    "earlyStopCallback = EarlyStopping(patience = 8)\n",
    "\n",
    "nnModel = Sequential()\n",
    "nnModel.add(Conv1D(25,(10),\n",
    "                   input_shape = (deepNeuralNetInput.shape[1],1)))\n",
    "nnModel.add(Activation('relu'))\n",
    "nnModel.add(MaxPooling1D(pool_size=4))\n",
    "\n",
    "nnModel.add(Conv1D(50,(10)))\n",
    "nnModel.add(Activation('relu'))\n",
    "nnModel.add(MaxPooling1D(pool_size=4))\n",
    "\n",
    "nnModel.add(Flatten())\n",
    "nnModel.add(Dense(15))\n",
    "nnModel.add(Activation('tanh'))\n",
    "nnModel.add(Dense(15))\n",
    "nnModel.add(Activation('tanh'))\n",
    "nnModel.add(Dense(3))\n",
    "nnModel.add(Activation('softmax'))\n",
    "\n",
    "nnModel.compile(optimizer='adam',\n",
    "             loss='binary_crossentropy',\n",
    "             metrics=['accuracy'])\n",
    "\n",
    "nnModel.fit(X_train,\n",
    "          y_train,\n",
    "          batch_size = 100,\n",
    "          epochs = 20,\n",
    "          validation_split = 0,\n",
    "          validation_data = (X_val, y_val),\n",
    "          callbacks = [earlyStopCallback])\n",
    "\n"
   ]
  },
  {
   "cell_type": "code",
   "execution_count": null,
   "metadata": {
    "collapsed": true
   },
   "outputs": [],
   "source": [
    "labels = np.zeros((neuralNetOutput.shape[0],1))\n",
    "\n",
    "for k in range(1,neuralNetOutput.shape[1]):\n",
    "    labels[:,0] = labels[:,0] + (k)*neuralNetOutput[:,k]    \n",
    "    \n",
    "    \n",
    "\n",
    "print(yPredicted.shape)"
   ]
  },
  {
   "cell_type": "code",
   "execution_count": 47,
   "metadata": {},
   "outputs": [
    {
     "name": "stdout",
     "output_type": "stream",
     "text": [
      "[[30  2  1  0]\n",
      " [ 5  8  0  0]\n",
      " [ 0  0  0  0]\n",
      " [ 0  0 17  0]]\n"
     ]
    }
   ],
   "source": [
    "yPredictedTest = nnModel.predict(X_test, batch_size=100, verbose=0)\n",
    "\n",
    "\n",
    "print(confusionMatrix(yPredictedTest, y_test))\n"
   ]
  },
  {
   "cell_type": "code",
   "execution_count": 45,
   "metadata": {},
   "outputs": [
    {
     "data": {
      "image/png": "[encoded data removed]",
      "text/plain": [
       "<matplotlib.figure.Figure at 0xcc2ca58>"
      ]
     },
     "metadata": {},
     "output_type": "display_data"
    }
   ],
   "source": [
    "#yPredicted = nnModel.predict(deepNeuralNetInput, batch_size=100, verbose=0)\n",
    "yPredictedPlot = np.zeros((yPredicted.shape[0],yPredicted.shape[0],3))\n",
    "yPredictedPlotFilter = np.zeros((yPredicted.shape[0],yPredicted.shape[0],3))\n",
    "\n",
    "for k in range(0, yPredicted.shape[0]):\n",
    "    yPredictedPlot[k,:,:] = yPredicted\n",
    "\n",
    "\n",
    "pyplt.imshow(yPredictedPlot)\n",
    "pyplt.show()\n",
    "\n",
    "yPredictFilter = yPredicted\n",
    "\n",
    "#for k in range(0, yPredicted.shape[0]):\n",
    "#    aux = yPredicted[k,:]/np.amax(yPredicted[k,:])\n",
    "#    aux[aux < 1] = 0\n",
    "#    yPredictFilter[k, :] = aux\n",
    "    \n",
    "#for k in range(0, yPredicted.shape[0]):\n",
    "#    yPredictedPlotFilter[k,:,:] = yPredictFilter\n",
    "    \n",
    "#pyplt.imshow(yPredictedPlotFilter)\n",
    "#pyplt.show()"
   ]
  },
  {
   "cell_type": "code",
   "execution_count": 37,
   "metadata": {
    "collapsed": true
   },
   "outputs": [],
   "source": [
    "from sklearn.metrics import confusion_matrix\n",
    "\n",
    "def confusionMatrix(predictedTarget, realTarget):   \n",
    "    yPredictFilter = np.zeros(realTarget.shape)\n",
    "    for k in range(0, predictedTarget.shape[0]):\n",
    "        aux = predictedTarget[k,:]/np.amax(predictedTarget[k,:])\n",
    "        aux[aux < 1] = 0\n",
    "        yPredictFilter[k, :] = aux\n",
    "\n",
    "    for k in range(0,predictedTarget.shape[1]):\n",
    "        yPredictFilter[:,k] = yPredictFilter[:,k] * k\n",
    "        realTarget[:,k] = realTarget[:,k] * k\n",
    "\n",
    "    yPredictFilter = np.sum(yPredictFilter,axis=1)\n",
    "    realTarget = np.sum(realTarget,axis=1)\n",
    "    \n",
    "    confusion = confusion_matrix(realTarget, yPredictFilter)\n",
    "    return confusion\n",
    "\n"
   ]
  },
  {
   "cell_type": "code",
   "execution_count": 191,
   "metadata": {},
   "outputs": [
    {
     "data": {
      "image/png": "[encoded data removed]",
      "text/plain": [
       "<matplotlib.figure.Figure at 0x1772cbe0>"
      ]
     },
     "metadata": {},
     "output_type": "display_data"
    }
   ],
   "source": [
    "X_train, X_test, y_train, y_test = train_test_split(deepNeuralNetInput, neuralNetOutput, test_size=0.2, random_state=42)\n",
    "\n",
    "pyplt.plot(y_test)\n",
    "pyplt.show()"
   ]
  },
  {
   "cell_type": "code",
   "execution_count": 12,
   "metadata": {},
   "outputs": [
    {
     "name": "stdout",
     "output_type": "stream",
     "text": [
      "[ 0  1  2  3  4  5  6  7  8  9 10 11 12 13 14  1  1  2  4  6 10 10  5]\n"
     ]
    }
   ],
   "source": [
    "testArray = np.array(range(0, 15))\n",
    "\n",
    "indexesToRepeat = np.array([1, 1, 2, 4, 6, 10, 10, 5])\n",
    "\n",
    "print(np.concatenate((testArray,testArray[indexesToRepeat])))"
   ]
  },
  {
   "cell_type": "code",
   "execution_count": 27,
   "metadata": {
    "collapsed": true
   },
   "outputs": [],
   "source": [
    "def splitIndexes(dataSampleSize, trainRatio = 0.7, valRatio = 0.15, testRatio = 0.15, **kwargs):\n",
    "    indexes = np.random.permutation(np.arange(dataSampleSize))\n",
    "    \n",
    "    trainSize = np.ceil(dataSampleSize*trainRatio).astype(int)\n",
    "    valSize = np.ceil(dataSampleSize*valRatio).astype(int)\n",
    "    \n",
    "    trainIndexes = indexes[0:trainSize-1]\n",
    "    valIndexes = indexes[trainSize:trainSize+valSize-1]\n",
    "    testIndexes = indexes[trainSize+valSize:]\n",
    "    \n",
    "    return trainIndexes, valIndexes, testIndexes\n",
    "    "
   ]
  }
 ],
 "metadata": {
  "kernelspec": {
   "display_name": "Python 2",
   "language": "python",
   "name": "python2"
  },
  "language_info": {
   "codemirror_mode": {
    "name": "ipython",
    "version": 2
   },
   "file_extension": ".py",
   "mimetype": "text/x-python",
   "name": "python",
   "nbconvert_exporter": "python",
   "pygments_lexer": "ipython2",
   "version": "2.7.13"
  }
 },
 "nbformat": 4,
 "nbformat_minor": 2
}
